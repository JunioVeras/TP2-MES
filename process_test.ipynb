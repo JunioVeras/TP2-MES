{
 "cells": [
  {
   "cell_type": "markdown",
   "id": "d75c11d4",
   "metadata": {},
   "source": [
    "## Processar testes em arquivos"
   ]
  },
  {
   "cell_type": "markdown",
   "id": "723a6134",
   "metadata": {},
   "source": [
    "### Configurações necessárias"
   ]
  },
  {
   "cell_type": "code",
   "execution_count": 4,
   "id": "b2e24e32",
   "metadata": {},
   "outputs": [
    {
     "name": "stdout",
     "output_type": "stream",
     "text": [
      "Requirement already satisfied: pytest in ./.venv/lib/python3.10/site-packages (8.3.5)\n",
      "Requirement already satisfied: exceptiongroup>=1.0.0rc8 in ./.venv/lib/python3.10/site-packages (from pytest) (1.3.0)\n",
      "Requirement already satisfied: iniconfig in ./.venv/lib/python3.10/site-packages (from pytest) (2.1.0)\n",
      "Requirement already satisfied: packaging in ./.venv/lib/python3.10/site-packages (from pytest) (25.0)\n",
      "Requirement already satisfied: pluggy<2,>=1.5 in ./.venv/lib/python3.10/site-packages (from pytest) (1.6.0)\n",
      "Requirement already satisfied: tomli>=1 in ./.venv/lib/python3.10/site-packages (from pytest) (2.2.1)\n",
      "Requirement already satisfied: typing-extensions>=4.6.0 in ./.venv/lib/python3.10/site-packages (from exceptiongroup>=1.0.0rc8->pytest) (4.13.2)\n",
      "Note: you may need to restart the kernel to use updated packages.\n"
     ]
    }
   ],
   "source": [
    "%pip install pytest"
   ]
  },
  {
   "cell_type": "code",
   "execution_count": 2,
   "id": "061f9dab",
   "metadata": {},
   "outputs": [],
   "source": [
    "import json\n",
    "import os\n",
    "import ast\n",
    "import shutil\n",
    "import subprocess\n",
    "import re\n",
    "from pathlib import Path"
   ]
  },
  {
   "cell_type": "code",
   "execution_count": null,
   "id": "5fb2bcc2",
   "metadata": {},
   "outputs": [],
   "source": [
    "if not os.path.exists(\"QuixBugs\"):\n",
    "    subprocess.run([\"git\", \"clone\", \"https://github.com/jkoppel/QuixBugs.git\"])"
   ]
  },
  {
   "cell_type": "code",
   "execution_count": 3,
   "id": "6125d601",
   "metadata": {},
   "outputs": [],
   "source": [
    "python_input_dir = Path(\"QuixBugs/python_programs\")\n",
    "python_test_dir = Path(\"QuixBugs/python_testcases\")\n",
    "java_input_dir = Path(\"QuixBugs/java_programs\")\n",
    "java_test_dir = Path(\"QuixBugs/java_testcases\")\n",
    "\n",
    "Path(\"llm_outputs\").mkdir(exist_ok=True)\n",
    "python_output_llama_dir = Path(\"llm_outputs/python_programs_corrected_by_llama\")\n",
    "python_output_deepseek_dir = Path(\"llm_outputs/python_programs_corrected_by_deepseek\")\n",
    "java_output_llama_dir = Path(\"llm_outputs/java_programs_corrected_by_llama\")\n",
    "java_output_deepseek_dir = Path(\"llm_outputs/java_programs_corrected_by_deepseek\")\n",
    "\n",
    "python_output_llama_dir.mkdir(exist_ok=True)\n",
    "python_output_deepseek_dir.mkdir(exist_ok=True)\n",
    "java_output_llama_dir.mkdir(exist_ok=True)\n",
    "java_output_deepseek_dir.mkdir(exist_ok=True)"
   ]
  },
  {
   "cell_type": "markdown",
   "id": "8dc7b41f",
   "metadata": {},
   "source": [
    "### Funções de processamento"
   ]
  },
  {
   "cell_type": "code",
   "execution_count": 5,
   "id": "088b3c1e",
   "metadata": {},
   "outputs": [],
   "source": [
    "def run_tests_on_generated_code(generated_code_dir: Path, test_dir: Path, language: str):\n",
    "  test_files = list(test_dir.glob(\"test_*.py\" if language == \"python\" else \"*.java\"))\n",
    "  print(f\"Executando {len(test_files)} arquivos de teste...\\n\")\n",
    "\n",
    "  for test_file in test_files:\n",
    "    print(f\"==> Rodando testes em: {test_file.name}\")\n",
    "\n",
    "    original_code = test_file.read_text(encoding=\"utf-8\")\n",
    "\n",
    "    if language == \"python\":\n",
    "      modified_code = re.sub(\n",
    "          r\"from correct_python_programs\\.(\\w+) import (\\w+)\",\n",
    "          rf\"from {generated_code_dir.name}.\\1 import \\2\",\n",
    "          original_code\n",
    "      )\n",
    "      test_file.write_text(modified_code, encoding=\"utf-8\")\n",
    "\n",
    "      result = subprocess.run(\n",
    "          [\"pytest\", str(test_file), \"--tb=no\", \"--maxfail=1000\", \"-q\"],\n",
    "          stdout=subprocess.PIPE,\n",
    "          stderr=subprocess.PIPE,\n",
    "          text=True\n",
    "      )\n",
    "\n",
    "      lines = result.stdout.splitlines()\n",
    "      summary_line = next((line for line in lines if re.search(r\"(failed|passed)\", line)), \"\")\n",
    "      match_fail = re.search(r\"(\\d+)\\s+failed\", summary_line)\n",
    "      match_pass = re.search(r\"(\\d+)\\s+passed\", summary_line)\n",
    "\n",
    "      failed_count = int(match_fail.group(1)) if match_fail else 0\n",
    "      passed_count = int(match_pass.group(1)) if match_pass else 0\n",
    "      total = failed_count + passed_count\n",
    "\n",
    "      print(f\"{test_file.name}: {failed_count}/{total} falha(s)\\n\")\n",
    "\n",
    "      test_file.write_text(original_code, encoding=\"utf-8\")\n",
    "\n",
    "    elif language == \"java\":\n",
    "      modified_code = re.sub(\n",
    "        r\"import java_programs\\.(\\w+);\",\n",
    "        rf\"import {generated_code_dir.name}.\\1;\",\n",
    "        original_code\n",
    "      )\n",
    "      test_file.write_text(modified_code, encoding=\"utf-8\")\n",
    "\n",
    "      compile_result = subprocess.run(\n",
    "        [\"javac\", \"-cp\", f\"{generated_code_dir}:{test_dir}\", str(test_file)],\n",
    "        stdout=subprocess.PIPE,\n",
    "        stderr=subprocess.PIPE,\n",
    "        text=True\n",
    "      )\n",
    "      if compile_result.returncode != 0:\n",
    "          print(f\"Erro na compilação de {test_file.name}:\\n{compile_result.stderr}\")\n",
    "          continue\n",
    "\n",
    "      class_name = test_file.stem\n",
    "      run_result = subprocess.run(\n",
    "        [\"java\", \"-cp\", f\"{generated_code_dir}:{test_dir}\", f\"java_testcases.{class_name}\"],\n",
    "        stdout=subprocess.PIPE,\n",
    "        stderr=subprocess.PIPE,\n",
    "        text=True\n",
    "      )\n",
    "\n",
    "      output = run_result.stdout\n",
    "      failed_count = output.count(\"Path Not Found\")\n",
    "      passed_count = output.count(\"Path Found\")\n",
    "      total = failed_count + passed_count\n",
    "\n",
    "      print(output.strip())\n",
    "      print(f\"{test_file.name}: {failed_count}/{total} falha(s)\\n\")\n",
    "\n",
    "      test_file.write_text(original_code, encoding=\"utf-8\")"
   ]
  },
  {
   "cell_type": "markdown",
   "id": "904851e2",
   "metadata": {},
   "source": [
    "### Processamentos"
   ]
  },
  {
   "cell_type": "code",
   "execution_count": null,
   "id": "8f032568",
   "metadata": {},
   "outputs": [
    {
     "name": "stdout",
     "output_type": "stream",
     "text": [
      "Executando 40 arquivos de teste...\n",
      "\n",
      "==> Rodando testes em: test_find_in_sorted.py\n",
      "test_find_in_sorted.py: 2/7 falha(s)\n",
      "\n",
      "==> Rodando testes em: test_sqrt.py\n"
     ]
    }
   ],
   "source": [
    "run_tests_on_generated_code(python_output_llama_dir, python_test_dir, \"python\")"
   ]
  },
  {
   "cell_type": "code",
   "execution_count": null,
   "id": "4762c453",
   "metadata": {},
   "outputs": [],
   "source": [
    "run_tests_on_generated_code(java_output_llama_dir, java_test_dir, \"java\")"
   ]
  },
  {
   "cell_type": "code",
   "execution_count": null,
   "id": "df655e5e",
   "metadata": {},
   "outputs": [],
   "source": [
    "run_tests_on_generated_code(python_output_deepseek_dir, python_test_dir, \"python\")"
   ]
  },
  {
   "cell_type": "code",
   "execution_count": null,
   "id": "c82c8cea",
   "metadata": {},
   "outputs": [],
   "source": [
    "run_tests_on_generated_code(java_output_deepseek_dir, java_test_dir, \"java\")"
   ]
  }
 ],
 "metadata": {
  "kernelspec": {
   "display_name": ".venv",
   "language": "python",
   "name": "python3"
  },
  "language_info": {
   "codemirror_mode": {
    "name": "ipython",
    "version": 3
   },
   "file_extension": ".py",
   "mimetype": "text/x-python",
   "name": "python",
   "nbconvert_exporter": "python",
   "pygments_lexer": "ipython3",
   "version": "3.10.12"
  }
 },
 "nbformat": 4,
 "nbformat_minor": 5
}
