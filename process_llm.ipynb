{
 "cells": [
  {
   "cell_type": "markdown",
   "id": "18be399f",
   "metadata": {},
   "source": [
    "## Processar saídas das LLMs"
   ]
  },
  {
   "cell_type": "markdown",
   "id": "3b81a6d6",
   "metadata": {},
   "source": [
    "### Configurações necessárias"
   ]
  },
  {
   "cell_type": "code",
   "execution_count": null,
   "id": "15b7887f",
   "metadata": {},
   "outputs": [],
   "source": [
    "%pip install transformers torch accelerate bitsandbytes\n",
    "%pip install --upgrade transformers\n",
    "%pip install dotenv"
   ]
  },
  {
   "cell_type": "code",
   "execution_count": null,
   "id": "2763cba9",
   "metadata": {},
   "outputs": [],
   "source": [
    "import torch\n",
    "import os\n",
    "from transformers import AutoTokenizer, AutoModelForCausalLM, BitsAndBytesConfig, AutoConfig, pipeline\n",
    "from huggingface_hub import login\n",
    "from dotenv import load_dotenv\n",
    "from pathlib import Path\n",
    "\n",
    "load_dotenv()  # procura por .env na raiz do projeto\n",
    "api_key = os.getenv(\"API_KEY\")\n"
   ]
  },
  {
   "cell_type": "code",
   "execution_count": null,
   "id": "98910696",
   "metadata": {},
   "outputs": [],
   "source": [
    "python_input_dir = Path(\"QuixBugs/python_programs\")\n",
    "python_test_dir = Path(\"QuixBugs/python_testcases\")\n",
    "java_input_dir = Path(\"QuixBugs/java_programs\")\n",
    "java_test_dir = Path(\"QuixBugs/java_testcases\")\n",
    "\n",
    "Path(\"llm_outputs\").mkdir(exist_ok=True)\n",
    "python_output_llama_dir = Path(\"llm_outputs/python_programs_corrected_by_llama\")\n",
    "python_output_deepseek_dir = Path(\"llm_outputs/python_programs_corrected_by_deepseek\")\n",
    "java_output_llama_dir = Path(\"llm_outputs/java_programs_corrected_by_llama\")\n",
    "java_output_deepseek_dir = Path(\"llm_outputs/java_programs_corrected_by_deepseek\")\n",
    "\n",
    "python_output_llama_dir.mkdir(exist_ok=True)\n",
    "python_output_deepseek_dir.mkdir(exist_ok=True)\n",
    "java_output_llama_dir.mkdir(exist_ok=True)\n",
    "java_output_deepseek_dir.mkdir(exist_ok=True)"
   ]
  },
  {
   "cell_type": "markdown",
   "id": "613773e3",
   "metadata": {},
   "source": [
    "### Configuração da LLM"
   ]
  },
  {
   "cell_type": "code",
   "execution_count": null,
   "id": "173f91ed",
   "metadata": {},
   "outputs": [],
   "source": [
    "login(token=api_key)\n",
    "models_ids = ['meta-llama/Llama-3.2-3B-Instruct', 'deepseek-ai/deepseek-llm-7b-chat']\n",
    "model_id = models_ids[0]\n",
    "\n",
    "bnb_config = BitsAndBytesConfig(\n",
    "    load_in_4bit=True,\n",
    "    bnb_4bit_use_double_quant=True,\n",
    "    bnb_4bit_quant_type='nf4',\n",
    "    bnb_4bit_compute_dtype=torch.bfloat16\n",
    ")\n",
    "\n",
    "tokenizer = AutoTokenizer.from_pretrained(model_id)\n",
    "tokenizer.pad_token = tokenizer.eos_token\n",
    "\n",
    "config = AutoConfig.from_pretrained(model_id)\n",
    "config.rope_scaling = { \"type\": \"linear\", \"factor\": 8.0 }  # Adjust the factor as needed\n",
    "\n",
    "model = AutoModelForCausalLM.from_pretrained(model_id, quantization_config=bnb_config, device_map='auto')"
   ]
  },
  {
   "cell_type": "code",
   "execution_count": null,
   "id": "338f5cc0",
   "metadata": {},
   "outputs": [],
   "source": [
    "pipe = pipeline(\n",
    "    'text-generation',\n",
    "    model=model,\n",
    "    tokenizer=tokenizer,\n",
    "    max_new_tokens=512,\n",
    "    temperature=0.1,\n",
    "    top_p=0.8,\n",
    "    repetition_penalty=1.2,\n",
    "    do_sample=True\n",
    ")"
   ]
  },
  {
   "cell_type": "code",
   "execution_count": null,
   "id": "f7b398c5",
   "metadata": {},
   "outputs": [],
   "source": [
    "def get_response(message):\n",
    "    response = pipe(message)\n",
    "    print(response[0]['generated_text'][-1]['content'])\n",
    "    return response[0]['generated_text'][-1]['content']"
   ]
  },
  {
   "cell_type": "markdown",
   "id": "1c2ab78a",
   "metadata": {},
   "source": [
    "### Prompt"
   ]
  },
  {
   "cell_type": "code",
   "execution_count": null,
   "id": "b3d54cf7",
   "metadata": {},
   "outputs": [],
   "source": [
    "def correct_with_ai(code: str, language: str = \"python\", ai: str = \"llama\"):\n",
    "  prompt = [\n",
    "    {\n",
    "        \"role\": \"system\",\n",
    "        \"content\": (\n",
    "            \"You are a helpful AI programming assistant. When the user sends you a piece of code that contains a bug, \"\n",
    "            \"your job is to return the corrected version of the code. \"\n",
    "            \"Do not include explanations, comments, or any text outside the code block. \"\n",
    "            f\"Only return the corrected code in a single code block, in {language}.\"\n",
    "        )\n",
    "    },\n",
    "    {\n",
    "        \"role\": \"user\",\n",
    "        \"content\": f\"{code}\"\n",
    "    }\n",
    "  ]\n",
    "  print(\"Output Code ---------------------------------------------\")\n",
    "  return get_response(prompt)"
   ]
  },
  {
   "cell_type": "markdown",
   "id": "529b99d7",
   "metadata": {},
   "source": [
    "### Função para processar Prompt"
   ]
  },
  {
   "cell_type": "code",
   "execution_count": null,
   "id": "f50c5153",
   "metadata": {},
   "outputs": [],
   "source": [
    "def process_files(input_dir: Path, output_dir: Path, language: str):\n",
    "    for file_path in input_dir.glob(\"*.java\" if language == \"java\" else \"*.py\"):\n",
    "        with open(file_path, \"r\", encoding=\"utf-8\") as f:\n",
    "            code = f.read()\n",
    "\n",
    "        corrected_code = correct_with_ai(code, language)\n",
    "\n",
    "        output_file = output_dir / file_path.name\n",
    "        with open(output_file, \"w\", encoding=\"utf-8\") as f:\n",
    "            f.write(corrected_code)\n",
    "        print(f\"[{language.upper()}] Corrigido e salvo: {output_file}\")"
   ]
  },
  {
   "cell_type": "markdown",
   "id": "01e293f7",
   "metadata": {},
   "source": [
    "### Processamentos"
   ]
  },
  {
   "cell_type": "code",
   "execution_count": null,
   "id": "ee113c67",
   "metadata": {},
   "outputs": [],
   "source": [
    "process_files(python_input_dir, python_output_llama_dir, \"python\")"
   ]
  },
  {
   "cell_type": "code",
   "execution_count": null,
   "id": "18e35ef7",
   "metadata": {},
   "outputs": [],
   "source": [
    "process_files(java_input_dir, java_output_llama_dir, \"java\")"
   ]
  },
  {
   "cell_type": "code",
   "execution_count": null,
   "id": "4d59b5e0",
   "metadata": {},
   "outputs": [],
   "source": [
    "process_files(python_input_dir, python_output_deepseek_dir, \"python\")"
   ]
  },
  {
   "cell_type": "code",
   "execution_count": null,
   "id": "b63c4952",
   "metadata": {},
   "outputs": [],
   "source": [
    "process_files(java_input_dir, java_output_deepseek_dir, \"java\")"
   ]
  },
  {
   "cell_type": "markdown",
   "id": "fd17d8e9",
   "metadata": {},
   "source": [
    "### Limpar saídas"
   ]
  },
  {
   "cell_type": "code",
   "execution_count": null,
   "id": "ba611171",
   "metadata": {},
   "outputs": [],
   "source": [
    "def clean_code(target_dir: Path, language: str):\n",
    "  test_files = list(target_dir.glob(\"*.py\" if language == \"python\" else \"*.java\"))\n",
    "\n",
    "  for file in test_files:\n",
    "      content = file.read_text(encoding=\"utf-8\")\n",
    "\n",
    "      if language == \"python\":\n",
    "        cleaned = content.replace(\"```python\", \"\").replace(\"```\", \"\").strip()\n",
    "      elif language == \"java\":\n",
    "        cleaned = content.replace(\"```java\", \"\").replace(\"```\", \"\").strip()\n",
    "\n",
    "      file.write_text(cleaned, encoding=\"utf-8\")\n",
    "      print(f\"Limpo: {file.name}\")"
   ]
  },
  {
   "cell_type": "code",
   "execution_count": null,
   "id": "afc258b4",
   "metadata": {},
   "outputs": [],
   "source": [
    "clean_code(python_output_llama_dir, \"python\")\n",
    "clean_code(python_output_deepseek_dir, \"python\")\n",
    "clean_code(java_output_llama_dir, \"java\")\n",
    "clean_code(java_output_deepseek_dir, \"java\")"
   ]
  }
 ],
 "metadata": {
  "kernelspec": {
   "display_name": ".venv",
   "language": "python",
   "name": "python3"
  },
  "language_info": {
   "codemirror_mode": {
    "name": "ipython",
    "version": 3
   },
   "file_extension": ".py",
   "mimetype": "text/x-python",
   "name": "python",
   "nbconvert_exporter": "python",
   "pygments_lexer": "ipython3",
   "version": "3.10.12"
  }
 },
 "nbformat": 4,
 "nbformat_minor": 5
}
