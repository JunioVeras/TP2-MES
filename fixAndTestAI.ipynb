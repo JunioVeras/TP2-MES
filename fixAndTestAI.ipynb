{
 "cells": [
  {
   "cell_type": "code",
   "execution_count": null,
   "id": "8094685c",
   "metadata": {},
   "outputs": [],
   "source": [
    "import os\n",
    "from pathlib import Path\n",
    "import shutil\n",
    "import subprocess\n",
    "import re"
   ]
  },
  {
   "cell_type": "code",
   "execution_count": null,
   "id": "7a687ec2",
   "metadata": {},
   "outputs": [],
   "source": [
    "python_input_dir = Path(\"QuixBugs/python_programs\")\n",
    "python_output_dir = Path(\"QuixBugs/python_programs_corrected_by_ai\")\n",
    "python_test_dir = Path(\"QuixBugs/python_testcases\")\n",
    "java_input_dir = Path(\"QuixBugs/java_programs\")\n",
    "java_output_dir = Path(\"QuixBugs/java_programs_corrected_by_ai\")\n",
    "\n",
    "\n",
    "python_output_dir.mkdir(exist_ok=True)\n",
    "java_output_dir.mkdir(exist_ok=True)"
   ]
  },
  {
   "cell_type": "code",
   "execution_count": null,
   "id": "2491105c",
   "metadata": {},
   "outputs": [],
   "source": [
    "def correct_with_ai(code: str, language: str, ai: str):\n",
    "    print(code)"
   ]
  },
  {
   "cell_type": "code",
   "execution_count": null,
   "id": "38efe873",
   "metadata": {},
   "outputs": [],
   "source": [
    "def process_files(input_dir: Path, output_dir: Path, language: str, ai: str):\n",
    "    for file_path in input_dir.glob(\"*.java\" if language == \"java\" else \"*.py\"):\n",
    "        with open(file_path, \"r\", encoding=\"utf-8\") as f:\n",
    "            code = f.read()\n",
    "        \n",
    "        corrected_code = correct_with_ai(code, language, ai)\n",
    "        \n",
    "        output_file = output_dir / file_path.name\n",
    "        with open(output_file, \"w\", encoding=\"utf-8\") as f:\n",
    "            f.write(corrected_code)\n",
    "        print(f\"[{language.upper()}] Corrigido e salvo: {output_file}\")"
   ]
  },
  {
   "cell_type": "code",
   "execution_count": null,
   "id": "774ac0de",
   "metadata": {},
   "outputs": [],
   "source": [
    "process_files(python_input_dir, python_output_dir, \"python\", \"\")"
   ]
  },
  {
   "cell_type": "code",
   "execution_count": null,
   "id": "5f673ff0",
   "metadata": {},
   "outputs": [],
   "source": [
    "process_files(java_input_dir, java_output_dir, \"java\", \"\")"
   ]
  },
  {
   "cell_type": "code",
   "execution_count": null,
   "id": "a6d2f536",
   "metadata": {},
   "outputs": [],
   "source": [
    "python_test_files = list(python_test_dir.glob(\"test_*.py\"))\n",
    "print(f\"Executando {len(python_test_files)} arquivos de teste...\\n\")\n",
    "\n",
    "for test_file in python_test_files:\n",
    "    print(f\"==> Rodando testes em: {test_file.name}\")\n",
    "    \n",
    "    result = subprocess.run(\n",
    "        [\"pytest\", str(test_file), \"--tb=no\", \"--maxfail=1000\", \"-q\"],\n",
    "        stdout=subprocess.PIPE,\n",
    "        stderr=subprocess.PIPE,\n",
    "        text=True\n",
    "    )\n",
    "\n",
    "    summary_line = next((line for line in result.stdout.splitlines() if re.search(r\"(failed|passed)\", line)), \"\")\n",
    "\n",
    "    match = re.search(r\"(\\d+)\\s+failed\", summary_line)\n",
    "    failed_count = int(match.group(1)) if match else 0\n",
    "    \n",
    "    print(f\"{test_file.name}: {failed_count} falha(s)\")"
   ]
  }
 ],
 "metadata": {
  "kernelspec": {
   "display_name": "Python 3",
   "language": "python",
   "name": "python3"
  },
  "language_info": {
   "codemirror_mode": {
    "name": "ipython",
    "version": 3
   },
   "file_extension": ".py",
   "mimetype": "text/x-python",
   "name": "python",
   "nbconvert_exporter": "python",
   "pygments_lexer": "ipython3",
   "version": "3.10.12"
  }
 },
 "nbformat": 4,
 "nbformat_minor": 5
}
